{
  "nbformat": 4,
  "nbformat_minor": 0,
  "metadata": {
    "colab": {
      "name": "statistic tests.ipynb",
      "provenance": []
    },
    "kernelspec": {
      "name": "python3",
      "display_name": "Python 3"
    },
    "language_info": {
      "name": "python"
    }
  },
  "cells": [
    {
      "cell_type": "code",
      "metadata": {
        "id": "-ZCOmGB4uzXp"
      },
      "source": [
        "import pandas as pd\n",
        "\n",
        "path = \"/content/sample_data/mse.csv\"\n",
        "df = pd.read_csv(path)"
      ],
      "execution_count": 1,
      "outputs": []
    },
    {
      "cell_type": "code",
      "metadata": {
        "colab": {
          "base_uri": "https://localhost:8080/",
          "height": 418
        },
        "id": "8QfSBlsmyhLG",
        "outputId": "c8a8a51f-6baa-4d35-c22c-c7199eae6bce"
      },
      "source": [
        "df"
      ],
      "execution_count": 2,
      "outputs": [
        {
          "output_type": "execute_result",
          "data": {
            "text/html": [
              "<div>\n",
              "<style scoped>\n",
              "    .dataframe tbody tr th:only-of-type {\n",
              "        vertical-align: middle;\n",
              "    }\n",
              "\n",
              "    .dataframe tbody tr th {\n",
              "        vertical-align: top;\n",
              "    }\n",
              "\n",
              "    .dataframe thead th {\n",
              "        text-align: right;\n",
              "    }\n",
              "</style>\n",
              "<table border=\"1\" class=\"dataframe\">\n",
              "  <thead>\n",
              "    <tr style=\"text-align: right;\">\n",
              "      <th></th>\n",
              "      <th>VWRegressor</th>\n",
              "      <th>Suggestion</th>\n",
              "      <th>Random forest</th>\n",
              "    </tr>\n",
              "  </thead>\n",
              "  <tbody>\n",
              "    <tr>\n",
              "      <th>0</th>\n",
              "      <td>3.002680</td>\n",
              "      <td>454.802280</td>\n",
              "      <td>0.004835</td>\n",
              "    </tr>\n",
              "    <tr>\n",
              "      <th>1</th>\n",
              "      <td>2.941470</td>\n",
              "      <td>454.094270</td>\n",
              "      <td>0.005717</td>\n",
              "    </tr>\n",
              "    <tr>\n",
              "      <th>2</th>\n",
              "      <td>2.967722</td>\n",
              "      <td>454.404722</td>\n",
              "      <td>0.004534</td>\n",
              "    </tr>\n",
              "    <tr>\n",
              "      <th>3</th>\n",
              "      <td>2.919272</td>\n",
              "      <td>453.807472</td>\n",
              "      <td>0.006957</td>\n",
              "    </tr>\n",
              "    <tr>\n",
              "      <th>4</th>\n",
              "      <td>2.961605</td>\n",
              "      <td>454.310405</td>\n",
              "      <td>0.003125</td>\n",
              "    </tr>\n",
              "    <tr>\n",
              "      <th>...</th>\n",
              "      <td>...</td>\n",
              "      <td>...</td>\n",
              "      <td>...</td>\n",
              "    </tr>\n",
              "    <tr>\n",
              "      <th>195</th>\n",
              "      <td>12.748490</td>\n",
              "      <td>16.562648</td>\n",
              "      <td>0.488436</td>\n",
              "    </tr>\n",
              "    <tr>\n",
              "      <th>196</th>\n",
              "      <td>13.450875</td>\n",
              "      <td>12.935951</td>\n",
              "      <td>0.066600</td>\n",
              "    </tr>\n",
              "    <tr>\n",
              "      <th>197</th>\n",
              "      <td>7.539329</td>\n",
              "      <td>8.425722</td>\n",
              "      <td>0.407350</td>\n",
              "    </tr>\n",
              "    <tr>\n",
              "      <th>198</th>\n",
              "      <td>13.335623</td>\n",
              "      <td>17.674830</td>\n",
              "      <td>1.070100</td>\n",
              "    </tr>\n",
              "    <tr>\n",
              "      <th>199</th>\n",
              "      <td>11.105410</td>\n",
              "      <td>19.635806</td>\n",
              "      <td>0.380715</td>\n",
              "    </tr>\n",
              "  </tbody>\n",
              "</table>\n",
              "<p>200 rows × 3 columns</p>\n",
              "</div>"
            ],
            "text/plain": [
              "     VWRegressor  Suggestion  Random forest\n",
              "0       3.002680  454.802280       0.004835\n",
              "1       2.941470  454.094270       0.005717\n",
              "2       2.967722  454.404722       0.004534\n",
              "3       2.919272  453.807472       0.006957\n",
              "4       2.961605  454.310405       0.003125\n",
              "..           ...         ...            ...\n",
              "195    12.748490   16.562648       0.488436\n",
              "196    13.450875   12.935951       0.066600\n",
              "197     7.539329    8.425722       0.407350\n",
              "198    13.335623   17.674830       1.070100\n",
              "199    11.105410   19.635806       0.380715\n",
              "\n",
              "[200 rows x 3 columns]"
            ]
          },
          "metadata": {
            "tags": []
          },
          "execution_count": 2
        }
      ]
    },
    {
      "cell_type": "markdown",
      "metadata": {
        "id": "C3kvV3sHzvnS"
      },
      "source": [
        "# Friedman Test"
      ]
    },
    {
      "cell_type": "code",
      "metadata": {
        "id": "Epe0LSDdyk0o"
      },
      "source": [
        "vwRegressor = df['VWRegressor']\n",
        "suggestion = df['Suggestion']\n",
        "rf = df['Random forest']"
      ],
      "execution_count": 4,
      "outputs": []
    },
    {
      "cell_type": "code",
      "metadata": {
        "id": "qkmBAjaHy5dE"
      },
      "source": [
        "from scipy.stats import friedmanchisquare\n",
        "\n",
        "stat, p = friedmanchisquare(vwRegressor, suggestion, rf)"
      ],
      "execution_count": 5,
      "outputs": []
    },
    {
      "cell_type": "code",
      "metadata": {
        "colab": {
          "base_uri": "https://localhost:8080/"
        },
        "id": "2a78ITg0zNP1",
        "outputId": "011a2368-a947-43cb-ab50-a650a17b5aad"
      },
      "source": [
        "print('Statistics=%.3f, p=%.3f' % (stat, p))"
      ],
      "execution_count": 6,
      "outputs": [
        {
          "output_type": "stream",
          "text": [
            "Statistics=250.870, p=0.000\n"
          ],
          "name": "stdout"
        }
      ]
    },
    {
      "cell_type": "code",
      "metadata": {
        "colab": {
          "base_uri": "https://localhost:8080/"
        },
        "id": "AK_xiwhmzWiP",
        "outputId": "143fd8a5-8c99-40dc-d710-d84a5db6d8b1"
      },
      "source": [
        "alpha = 0.05\n",
        "if p > alpha:\n",
        "\tprint('Same distributions (fail to reject H0)')\n",
        "else:\n",
        "\tprint('Different distributions (reject H0)')"
      ],
      "execution_count": 7,
      "outputs": [
        {
          "output_type": "stream",
          "text": [
            "Different distributions (reject H0)\n"
          ],
          "name": "stdout"
        }
      ]
    },
    {
      "cell_type": "markdown",
      "metadata": {
        "id": "-UVCE2nSvtOG"
      },
      "source": [
        "# Post hoc tests"
      ]
    },
    {
      "cell_type": "code",
      "metadata": {
        "id": "TlcC3xku6nGI"
      },
      "source": [
        "import pandas as pd\n",
        "\n",
        "path = \"/content/sample_data/post_hoc.csv\"\n",
        "df = pd.read_csv(path)"
      ],
      "execution_count": 8,
      "outputs": []
    },
    {
      "cell_type": "code",
      "metadata": {
        "colab": {
          "base_uri": "https://localhost:8080/",
          "height": 418
        },
        "id": "uti65s_e6qfO",
        "outputId": "bb6bd0fd-4138-4797-dede-a30f659861f1"
      },
      "source": [
        "df"
      ],
      "execution_count": 9,
      "outputs": [
        {
          "output_type": "execute_result",
          "data": {
            "text/html": [
              "<div>\n",
              "<style scoped>\n",
              "    .dataframe tbody tr th:only-of-type {\n",
              "        vertical-align: middle;\n",
              "    }\n",
              "\n",
              "    .dataframe tbody tr th {\n",
              "        vertical-align: top;\n",
              "    }\n",
              "\n",
              "    .dataframe thead th {\n",
              "        text-align: right;\n",
              "    }\n",
              "</style>\n",
              "<table border=\"1\" class=\"dataframe\">\n",
              "  <thead>\n",
              "    <tr style=\"text-align: right;\">\n",
              "      <th></th>\n",
              "      <th>algo</th>\n",
              "      <th>mse</th>\n",
              "    </tr>\n",
              "  </thead>\n",
              "  <tbody>\n",
              "    <tr>\n",
              "      <th>0</th>\n",
              "      <td>VWRegressor</td>\n",
              "      <td>3.002680</td>\n",
              "    </tr>\n",
              "    <tr>\n",
              "      <th>1</th>\n",
              "      <td>VWRegressor</td>\n",
              "      <td>2.941470</td>\n",
              "    </tr>\n",
              "    <tr>\n",
              "      <th>2</th>\n",
              "      <td>VWRegressor</td>\n",
              "      <td>2.967722</td>\n",
              "    </tr>\n",
              "    <tr>\n",
              "      <th>3</th>\n",
              "      <td>VWRegressor</td>\n",
              "      <td>2.919272</td>\n",
              "    </tr>\n",
              "    <tr>\n",
              "      <th>4</th>\n",
              "      <td>VWRegressor</td>\n",
              "      <td>2.961605</td>\n",
              "    </tr>\n",
              "    <tr>\n",
              "      <th>...</th>\n",
              "      <td>...</td>\n",
              "      <td>...</td>\n",
              "    </tr>\n",
              "    <tr>\n",
              "      <th>595</th>\n",
              "      <td>Random forest</td>\n",
              "      <td>0.488436</td>\n",
              "    </tr>\n",
              "    <tr>\n",
              "      <th>596</th>\n",
              "      <td>Random forest</td>\n",
              "      <td>0.066600</td>\n",
              "    </tr>\n",
              "    <tr>\n",
              "      <th>597</th>\n",
              "      <td>Random forest</td>\n",
              "      <td>0.407350</td>\n",
              "    </tr>\n",
              "    <tr>\n",
              "      <th>598</th>\n",
              "      <td>Random forest</td>\n",
              "      <td>1.070100</td>\n",
              "    </tr>\n",
              "    <tr>\n",
              "      <th>599</th>\n",
              "      <td>Random forest</td>\n",
              "      <td>0.380715</td>\n",
              "    </tr>\n",
              "  </tbody>\n",
              "</table>\n",
              "<p>600 rows × 2 columns</p>\n",
              "</div>"
            ],
            "text/plain": [
              "              algo       mse\n",
              "0      VWRegressor  3.002680\n",
              "1      VWRegressor  2.941470\n",
              "2      VWRegressor  2.967722\n",
              "3      VWRegressor  2.919272\n",
              "4      VWRegressor  2.961605\n",
              "..             ...       ...\n",
              "595  Random forest  0.488436\n",
              "596  Random forest  0.066600\n",
              "597  Random forest  0.407350\n",
              "598  Random forest  1.070100\n",
              "599  Random forest  0.380715\n",
              "\n",
              "[600 rows x 2 columns]"
            ]
          },
          "metadata": {
            "tags": []
          },
          "execution_count": 9
        }
      ]
    },
    {
      "cell_type": "code",
      "metadata": {
        "colab": {
          "base_uri": "https://localhost:8080/",
          "height": 560
        },
        "id": "2jPhJe1o6ucy",
        "outputId": "05216f85-8b2d-454f-d442-64dbd00373eb"
      },
      "source": [
        "from statsmodels.stats.multicomp import pairwise_tukeyhsd\n",
        "\n",
        "tukey = pairwise_tukeyhsd(endog=df['mse'], groups=df['algo'], alpha=0.05)\n",
        "tukey.plot_simultaneous()\n",
        "tukey.summary()"
      ],
      "execution_count": 10,
      "outputs": [
        {
          "output_type": "stream",
          "text": [
            "/usr/local/lib/python3.7/dist-packages/statsmodels/tools/_testing.py:19: FutureWarning: pandas.util.testing is deprecated. Use the functions in the public API at pandas.testing instead.\n",
            "  import pandas.util.testing as tm\n"
          ],
          "name": "stderr"
        },
        {
          "output_type": "execute_result",
          "data": {
            "text/html": [
              "<table class=\"simpletable\">\n",
              "<caption>Multiple Comparison of Means - Tukey HSD, FWER=0.05</caption>\n",
              "<tr>\n",
              "     <th>group1</th>       <th>group2</th>      <th>meandiff</th>    <th>p-adj</th>     <th>lower</th>         <th>upper</th>     <th>reject</th>\n",
              "</tr>\n",
              "<tr>\n",
              "  <td>Random forest</td> <td>Suggestion</td>  <td>12394958.3565</td> <td>0.001</td> <td>4612653.2668</td>  <td>20177263.4461</td>  <td>True</td> \n",
              "</tr>\n",
              "<tr>\n",
              "  <td>Random forest</td> <td>VWRegressor</td> <td>12409763.4485</td> <td>0.001</td> <td>4627458.3588</td>  <td>20192068.5381</td>  <td>True</td> \n",
              "</tr>\n",
              "<tr>\n",
              "   <td>Suggestion</td>   <td>VWRegressor</td>   <td>14805.092</td>    <td>0.9</td>  <td>-7767499.9977</td> <td>7797110.1817</td>   <td>False</td>\n",
              "</tr>\n",
              "</table>"
            ],
            "text/plain": [
              "<class 'statsmodels.iolib.table.SimpleTable'>"
            ]
          },
          "metadata": {
            "tags": []
          },
          "execution_count": 10
        },
        {
          "output_type": "display_data",
          "data": {
            "image/png": "[encoded data removed]",
            "text/plain": [
              "<Figure size 720x432 with 1 Axes>"
            ]
          },
          "metadata": {
            "tags": [],
            "needs_background": "light"
          }
        }
      ]
    },
    {
      "cell_type": "markdown",
      "metadata": {
        "id": "YgTzVC9B8oRk"
      },
      "source": [
        "there is no significant difference between our suggestion and the chosen algorithm. but we can see that there is a significant difference between Random Forest and the other two models."
      ]
    }
  ]
}